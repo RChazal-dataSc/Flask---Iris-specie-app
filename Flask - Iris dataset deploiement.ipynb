{
 "cells": [
  {
   "cell_type": "code",
   "execution_count": 65,
   "id": "a0f9aee1",
   "metadata": {},
   "outputs": [],
   "source": [
    "import pandas as pd\n",
    "import numpy as np\n",
    "from sklearn.linear_model import LogisticRegression\n",
    "from sklearn.metrics import classification_report\n",
    "from sklearn.metrics import accuracy_score\n",
    "from sklearn.model_selection import train_test_split\n",
    "import pickle"
   ]
  },
  {
   "cell_type": "code",
   "execution_count": 66,
   "id": "6b00f08d",
   "metadata": {},
   "outputs": [],
   "source": [
    "#chargement des données, répartition, shuffle\n",
    "\n",
    "data=pd.read_csv('iris_dataset.csv')"
   ]
  },
  {
   "cell_type": "code",
   "execution_count": 67,
   "id": "8631a521",
   "metadata": {},
   "outputs": [
    {
     "data": {
      "text/html": [
       "<div>\n",
       "<style scoped>\n",
       "    .dataframe tbody tr th:only-of-type {\n",
       "        vertical-align: middle;\n",
       "    }\n",
       "\n",
       "    .dataframe tbody tr th {\n",
       "        vertical-align: top;\n",
       "    }\n",
       "\n",
       "    .dataframe thead th {\n",
       "        text-align: right;\n",
       "    }\n",
       "</style>\n",
       "<table border=\"1\" class=\"dataframe\">\n",
       "  <thead>\n",
       "    <tr style=\"text-align: right;\">\n",
       "      <th></th>\n",
       "      <th>id</th>\n",
       "      <th>sepal_length</th>\n",
       "      <th>sepal_width</th>\n",
       "      <th>petal_length</th>\n",
       "      <th>petal_width</th>\n",
       "      <th>species</th>\n",
       "    </tr>\n",
       "  </thead>\n",
       "  <tbody>\n",
       "    <tr>\n",
       "      <th>0</th>\n",
       "      <td>False</td>\n",
       "      <td>False</td>\n",
       "      <td>False</td>\n",
       "      <td>False</td>\n",
       "      <td>False</td>\n",
       "      <td>False</td>\n",
       "    </tr>\n",
       "    <tr>\n",
       "      <th>1</th>\n",
       "      <td>False</td>\n",
       "      <td>False</td>\n",
       "      <td>False</td>\n",
       "      <td>False</td>\n",
       "      <td>False</td>\n",
       "      <td>False</td>\n",
       "    </tr>\n",
       "    <tr>\n",
       "      <th>2</th>\n",
       "      <td>False</td>\n",
       "      <td>False</td>\n",
       "      <td>False</td>\n",
       "      <td>False</td>\n",
       "      <td>False</td>\n",
       "      <td>False</td>\n",
       "    </tr>\n",
       "    <tr>\n",
       "      <th>3</th>\n",
       "      <td>False</td>\n",
       "      <td>False</td>\n",
       "      <td>True</td>\n",
       "      <td>False</td>\n",
       "      <td>False</td>\n",
       "      <td>False</td>\n",
       "    </tr>\n",
       "    <tr>\n",
       "      <th>4</th>\n",
       "      <td>False</td>\n",
       "      <td>False</td>\n",
       "      <td>False</td>\n",
       "      <td>False</td>\n",
       "      <td>False</td>\n",
       "      <td>False</td>\n",
       "    </tr>\n",
       "    <tr>\n",
       "      <th>...</th>\n",
       "      <td>...</td>\n",
       "      <td>...</td>\n",
       "      <td>...</td>\n",
       "      <td>...</td>\n",
       "      <td>...</td>\n",
       "      <td>...</td>\n",
       "    </tr>\n",
       "    <tr>\n",
       "      <th>145</th>\n",
       "      <td>False</td>\n",
       "      <td>False</td>\n",
       "      <td>False</td>\n",
       "      <td>False</td>\n",
       "      <td>False</td>\n",
       "      <td>False</td>\n",
       "    </tr>\n",
       "    <tr>\n",
       "      <th>146</th>\n",
       "      <td>False</td>\n",
       "      <td>False</td>\n",
       "      <td>False</td>\n",
       "      <td>False</td>\n",
       "      <td>False</td>\n",
       "      <td>False</td>\n",
       "    </tr>\n",
       "    <tr>\n",
       "      <th>147</th>\n",
       "      <td>False</td>\n",
       "      <td>False</td>\n",
       "      <td>False</td>\n",
       "      <td>False</td>\n",
       "      <td>False</td>\n",
       "      <td>False</td>\n",
       "    </tr>\n",
       "    <tr>\n",
       "      <th>148</th>\n",
       "      <td>False</td>\n",
       "      <td>False</td>\n",
       "      <td>False</td>\n",
       "      <td>False</td>\n",
       "      <td>False</td>\n",
       "      <td>False</td>\n",
       "    </tr>\n",
       "    <tr>\n",
       "      <th>149</th>\n",
       "      <td>False</td>\n",
       "      <td>False</td>\n",
       "      <td>False</td>\n",
       "      <td>False</td>\n",
       "      <td>False</td>\n",
       "      <td>False</td>\n",
       "    </tr>\n",
       "  </tbody>\n",
       "</table>\n",
       "<p>150 rows × 6 columns</p>\n",
       "</div>"
      ],
      "text/plain": [
       "        id  sepal_length  sepal_width  petal_length  petal_width  species\n",
       "0    False         False        False         False        False    False\n",
       "1    False         False        False         False        False    False\n",
       "2    False         False        False         False        False    False\n",
       "3    False         False         True         False        False    False\n",
       "4    False         False        False         False        False    False\n",
       "..     ...           ...          ...           ...          ...      ...\n",
       "145  False         False        False         False        False    False\n",
       "146  False         False        False         False        False    False\n",
       "147  False         False        False         False        False    False\n",
       "148  False         False        False         False        False    False\n",
       "149  False         False        False         False        False    False\n",
       "\n",
       "[150 rows x 6 columns]"
      ]
     },
     "execution_count": 67,
     "metadata": {},
     "output_type": "execute_result"
    }
   ],
   "source": [
    "#recherche des nans\n",
    "data.isnull()"
   ]
  },
  {
   "cell_type": "code",
   "execution_count": 68,
   "id": "a7a55dc3",
   "metadata": {},
   "outputs": [
    {
     "data": {
      "text/plain": [
       "id              0\n",
       "sepal_length    0\n",
       "sepal_width     3\n",
       "petal_length    0\n",
       "petal_width     1\n",
       "species         0\n",
       "dtype: int64"
      ]
     },
     "execution_count": 68,
     "metadata": {},
     "output_type": "execute_result"
    }
   ],
   "source": [
    "##verification : il n'y a plus de manquantes.\n",
    "data.isna().sum()"
   ]
  },
  {
   "cell_type": "code",
   "execution_count": 69,
   "id": "2a4ef9a6",
   "metadata": {},
   "outputs": [],
   "source": [
    "#il y a des nans, mais peu nombreuses : suppression de toutes les nans\n",
    "data = data.dropna()"
   ]
  },
  {
   "cell_type": "code",
   "execution_count": 70,
   "id": "cf91a935",
   "metadata": {},
   "outputs": [
    {
     "data": {
      "text/html": [
       "<div>\n",
       "<style scoped>\n",
       "    .dataframe tbody tr th:only-of-type {\n",
       "        vertical-align: middle;\n",
       "    }\n",
       "\n",
       "    .dataframe tbody tr th {\n",
       "        vertical-align: top;\n",
       "    }\n",
       "\n",
       "    .dataframe thead th {\n",
       "        text-align: right;\n",
       "    }\n",
       "</style>\n",
       "<table border=\"1\" class=\"dataframe\">\n",
       "  <thead>\n",
       "    <tr style=\"text-align: right;\">\n",
       "      <th></th>\n",
       "      <th>id</th>\n",
       "      <th>sepal_length</th>\n",
       "      <th>sepal_width</th>\n",
       "      <th>petal_length</th>\n",
       "      <th>petal_width</th>\n",
       "      <th>species</th>\n",
       "    </tr>\n",
       "  </thead>\n",
       "  <tbody>\n",
       "    <tr>\n",
       "      <th>0</th>\n",
       "      <td>1</td>\n",
       "      <td>5.138728</td>\n",
       "      <td>3.470118</td>\n",
       "      <td>1.441015</td>\n",
       "      <td>1.094873</td>\n",
       "      <td>setosa</td>\n",
       "    </tr>\n",
       "    <tr>\n",
       "      <th>1</th>\n",
       "      <td>2</td>\n",
       "      <td>4.849873</td>\n",
       "      <td>3.034931</td>\n",
       "      <td>1.414931</td>\n",
       "      <td>0.968687</td>\n",
       "      <td>setosa</td>\n",
       "    </tr>\n",
       "    <tr>\n",
       "      <th>2</th>\n",
       "      <td>3</td>\n",
       "      <td>4.715843</td>\n",
       "      <td>3.239083</td>\n",
       "      <td>1.295309</td>\n",
       "      <td>1.006643</td>\n",
       "      <td>setosa</td>\n",
       "    </tr>\n",
       "    <tr>\n",
       "      <th>4</th>\n",
       "      <td>5</td>\n",
       "      <td>4.988744</td>\n",
       "      <td>3.645049</td>\n",
       "      <td>1.417527</td>\n",
       "      <td>1.122947</td>\n",
       "      <td>setosa</td>\n",
       "    </tr>\n",
       "    <tr>\n",
       "      <th>5</th>\n",
       "      <td>6</td>\n",
       "      <td>5.430821</td>\n",
       "      <td>3.884073</td>\n",
       "      <td>1.699534</td>\n",
       "      <td>1.370708</td>\n",
       "      <td>setosa</td>\n",
       "    </tr>\n",
       "    <tr>\n",
       "      <th>...</th>\n",
       "      <td>...</td>\n",
       "      <td>...</td>\n",
       "      <td>...</td>\n",
       "      <td>...</td>\n",
       "      <td>...</td>\n",
       "      <td>...</td>\n",
       "    </tr>\n",
       "    <tr>\n",
       "      <th>145</th>\n",
       "      <td>146</td>\n",
       "      <td>6.664208</td>\n",
       "      <td>2.994751</td>\n",
       "      <td>5.219754</td>\n",
       "      <td>3.061857</td>\n",
       "      <td>virginica</td>\n",
       "    </tr>\n",
       "    <tr>\n",
       "      <th>146</th>\n",
       "      <td>147</td>\n",
       "      <td>6.319889</td>\n",
       "      <td>2.453381</td>\n",
       "      <td>5.035004</td>\n",
       "      <td>2.536681</td>\n",
       "      <td>virginica</td>\n",
       "    </tr>\n",
       "    <tr>\n",
       "      <th>147</th>\n",
       "      <td>148</td>\n",
       "      <td>6.488279</td>\n",
       "      <td>2.989227</td>\n",
       "      <td>5.203232</td>\n",
       "      <td>2.749461</td>\n",
       "      <td>virginica</td>\n",
       "    </tr>\n",
       "    <tr>\n",
       "      <th>148</th>\n",
       "      <td>149</td>\n",
       "      <td>6.228777</td>\n",
       "      <td>3.371570</td>\n",
       "      <td>5.416274</td>\n",
       "      <td>3.153742</td>\n",
       "      <td>virginica</td>\n",
       "    </tr>\n",
       "    <tr>\n",
       "      <th>149</th>\n",
       "      <td>150</td>\n",
       "      <td>5.879011</td>\n",
       "      <td>3.048696</td>\n",
       "      <td>5.059241</td>\n",
       "      <td>2.535001</td>\n",
       "      <td>virginica</td>\n",
       "    </tr>\n",
       "  </tbody>\n",
       "</table>\n",
       "<p>146 rows × 6 columns</p>\n",
       "</div>"
      ],
      "text/plain": [
       "      id  sepal_length  sepal_width  petal_length  petal_width    species\n",
       "0      1      5.138728     3.470118      1.441015     1.094873     setosa\n",
       "1      2      4.849873     3.034931      1.414931     0.968687     setosa\n",
       "2      3      4.715843     3.239083      1.295309     1.006643     setosa\n",
       "4      5      4.988744     3.645049      1.417527     1.122947     setosa\n",
       "5      6      5.430821     3.884073      1.699534     1.370708     setosa\n",
       "..   ...           ...          ...           ...          ...        ...\n",
       "145  146      6.664208     2.994751      5.219754     3.061857  virginica\n",
       "146  147      6.319889     2.453381      5.035004     2.536681  virginica\n",
       "147  148      6.488279     2.989227      5.203232     2.749461  virginica\n",
       "148  149      6.228777     3.371570      5.416274     3.153742  virginica\n",
       "149  150      5.879011     3.048696      5.059241     2.535001  virginica\n",
       "\n",
       "[146 rows x 6 columns]"
      ]
     },
     "execution_count": 70,
     "metadata": {},
     "output_type": "execute_result"
    }
   ],
   "source": [
    "data"
   ]
  },
  {
   "cell_type": "code",
   "execution_count": 71,
   "id": "6bae9ea4",
   "metadata": {},
   "outputs": [],
   "source": [
    "#changement de ID\n",
    "data = data.set_index('id')"
   ]
  },
  {
   "cell_type": "code",
   "execution_count": 72,
   "id": "1b06152d",
   "metadata": {},
   "outputs": [],
   "source": [
    "#répartition des variables\n",
    "\n",
    "# X = feature values, all the columns except the last column\n",
    "X = data.iloc[:, :-1]# y = target values, last column of the data frame\n",
    "y = data.iloc[:, -1]#Split the data into 80% training and 20% testing\n",
    "x_train, x_test, y_train, y_test = train_test_split(X, y, test_size=0.2, random_state=42)"
   ]
  },
  {
   "cell_type": "code",
   "execution_count": 73,
   "id": "4fc8239f",
   "metadata": {},
   "outputs": [
    {
     "data": {
      "text/html": [
       "<div>\n",
       "<style scoped>\n",
       "    .dataframe tbody tr th:only-of-type {\n",
       "        vertical-align: middle;\n",
       "    }\n",
       "\n",
       "    .dataframe tbody tr th {\n",
       "        vertical-align: top;\n",
       "    }\n",
       "\n",
       "    .dataframe thead th {\n",
       "        text-align: right;\n",
       "    }\n",
       "</style>\n",
       "<table border=\"1\" class=\"dataframe\">\n",
       "  <thead>\n",
       "    <tr style=\"text-align: right;\">\n",
       "      <th></th>\n",
       "      <th>sepal_length</th>\n",
       "      <th>sepal_width</th>\n",
       "      <th>petal_length</th>\n",
       "      <th>petal_width</th>\n",
       "    </tr>\n",
       "    <tr>\n",
       "      <th>id</th>\n",
       "      <th></th>\n",
       "      <th></th>\n",
       "      <th></th>\n",
       "      <th></th>\n",
       "    </tr>\n",
       "  </thead>\n",
       "  <tbody>\n",
       "    <tr>\n",
       "      <th>6</th>\n",
       "      <td>5.430821</td>\n",
       "      <td>3.884073</td>\n",
       "      <td>1.699534</td>\n",
       "      <td>1.370708</td>\n",
       "    </tr>\n",
       "    <tr>\n",
       "      <th>28</th>\n",
       "      <td>5.210810</td>\n",
       "      <td>3.560722</td>\n",
       "      <td>1.493921</td>\n",
       "      <td>1.086128</td>\n",
       "    </tr>\n",
       "    <tr>\n",
       "      <th>128</th>\n",
       "      <td>6.078544</td>\n",
       "      <td>3.016861</td>\n",
       "      <td>4.913202</td>\n",
       "      <td>2.563017</td>\n",
       "    </tr>\n",
       "    <tr>\n",
       "      <th>133</th>\n",
       "      <td>6.416829</td>\n",
       "      <td>2.779047</td>\n",
       "      <td>5.595308</td>\n",
       "      <td>2.891634</td>\n",
       "    </tr>\n",
       "    <tr>\n",
       "      <th>18</th>\n",
       "      <td>5.114665</td>\n",
       "      <td>3.489777</td>\n",
       "      <td>1.392075</td>\n",
       "      <td>1.167161</td>\n",
       "    </tr>\n",
       "    <tr>\n",
       "      <th>...</th>\n",
       "      <td>...</td>\n",
       "      <td>...</td>\n",
       "      <td>...</td>\n",
       "      <td>...</td>\n",
       "    </tr>\n",
       "    <tr>\n",
       "      <th>75</th>\n",
       "      <td>6.396337</td>\n",
       "      <td>2.926166</td>\n",
       "      <td>4.310336</td>\n",
       "      <td>2.038432</td>\n",
       "    </tr>\n",
       "    <tr>\n",
       "      <th>111</th>\n",
       "      <td>6.492454</td>\n",
       "      <td>3.214989</td>\n",
       "      <td>5.087624</td>\n",
       "      <td>2.795497</td>\n",
       "    </tr>\n",
       "    <tr>\n",
       "      <th>16</th>\n",
       "      <td>5.705057</td>\n",
       "      <td>4.394665</td>\n",
       "      <td>1.491007</td>\n",
       "      <td>1.492671</td>\n",
       "    </tr>\n",
       "    <tr>\n",
       "      <th>96</th>\n",
       "      <td>5.706366</td>\n",
       "      <td>3.008395</td>\n",
       "      <td>4.173113</td>\n",
       "      <td>1.934174</td>\n",
       "    </tr>\n",
       "    <tr>\n",
       "      <th>107</th>\n",
       "      <td>4.870525</td>\n",
       "      <td>2.513694</td>\n",
       "      <td>4.475687</td>\n",
       "      <td>2.312215</td>\n",
       "    </tr>\n",
       "  </tbody>\n",
       "</table>\n",
       "<p>116 rows × 4 columns</p>\n",
       "</div>"
      ],
      "text/plain": [
       "     sepal_length  sepal_width  petal_length  petal_width\n",
       "id                                                       \n",
       "6        5.430821     3.884073      1.699534     1.370708\n",
       "28       5.210810     3.560722      1.493921     1.086128\n",
       "128      6.078544     3.016861      4.913202     2.563017\n",
       "133      6.416829     2.779047      5.595308     2.891634\n",
       "18       5.114665     3.489777      1.392075     1.167161\n",
       "..            ...          ...           ...          ...\n",
       "75       6.396337     2.926166      4.310336     2.038432\n",
       "111      6.492454     3.214989      5.087624     2.795497\n",
       "16       5.705057     4.394665      1.491007     1.492671\n",
       "96       5.706366     3.008395      4.173113     1.934174\n",
       "107      4.870525     2.513694      4.475687     2.312215\n",
       "\n",
       "[116 rows x 4 columns]"
      ]
     },
     "execution_count": 73,
     "metadata": {},
     "output_type": "execute_result"
    }
   ],
   "source": [
    "#vérifier les données : x_train\n",
    "x_train"
   ]
  },
  {
   "cell_type": "code",
   "execution_count": 76,
   "id": "06b3dcf2",
   "metadata": {},
   "outputs": [
    {
     "name": "stdout",
     "output_type": "stream",
     "text": [
      "id\n",
      "6          setosa\n",
      "28         setosa\n",
      "128     virginica\n",
      "133     virginica\n",
      "18         setosa\n",
      "          ...    \n",
      "75     versicolor\n",
      "111     virginica\n",
      "16         setosa\n",
      "96     versicolor\n",
      "107     virginica\n",
      "Name: species, Length: 116, dtype: object\n"
     ]
    }
   ],
   "source": [
    "#vérifier les données : x_train\n",
    "print(y_train)"
   ]
  },
  {
   "cell_type": "code",
   "execution_count": 77,
   "id": "d1046ba5",
   "metadata": {},
   "outputs": [
    {
     "name": "stdout",
     "output_type": "stream",
     "text": [
      "['setosa' 'setosa' 'virginica' 'virginica' 'setosa' 'setosa' 'virginica'\n",
      " 'versicolor' 'versicolor' 'versicolor' 'virginica' 'virginica'\n",
      " 'virginica' 'setosa' 'virginica' 'virginica' 'setosa' 'setosa'\n",
      " 'virginica' 'setosa' 'setosa' 'setosa' 'versicolor' 'versicolor' 'setosa'\n",
      " 'setosa' 'virginica' 'setosa' 'versicolor' 'versicolor' 'setosa'\n",
      " 'versicolor' 'versicolor' 'virginica' 'setosa' 'virginica' 'virginica'\n",
      " 'setosa' 'versicolor' 'versicolor' 'versicolor' 'versicolor' 'versicolor'\n",
      " 'versicolor' 'setosa' 'virginica' 'versicolor' 'versicolor' 'setosa'\n",
      " 'versicolor' 'setosa' 'virginica' 'setosa' 'setosa' 'versicolor'\n",
      " 'virginica' 'versicolor' 'virginica' 'virginica' 'versicolor' 'setosa'\n",
      " 'setosa' 'virginica' 'virginica' 'setosa' 'setosa' 'setosa' 'versicolor'\n",
      " 'virginica' 'setosa' 'virginica' 'virginica' 'setosa' 'virginica'\n",
      " 'versicolor' 'versicolor' 'virginica' 'setosa' 'virginica' 'versicolor'\n",
      " 'virginica' 'versicolor' 'virginica' 'versicolor' 'setosa' 'versicolor'\n",
      " 'versicolor' 'setosa' 'versicolor' 'virginica' 'setosa' 'versicolor'\n",
      " 'versicolor' 'setosa' 'virginica' 'versicolor' 'versicolor' 'virginica'\n",
      " 'setosa' 'virginica' 'setosa' 'versicolor' 'virginica' 'virginica'\n",
      " 'virginica' 'virginica' 'versicolor' 'versicolor' 'virginica' 'virginica'\n",
      " 'setosa' 'versicolor' 'virginica' 'setosa' 'versicolor' 'virginica']\n"
     ]
    }
   ],
   "source": [
    "y_train = np.array(y_train)\n",
    "#y_train.reshape(-1, 1)\n",
    "print(y_train)"
   ]
  },
  {
   "cell_type": "code",
   "execution_count": 78,
   "id": "a1fe967a",
   "metadata": {},
   "outputs": [
    {
     "data": {
      "text/plain": [
       "(116,)"
      ]
     },
     "execution_count": 78,
     "metadata": {},
     "output_type": "execute_result"
    }
   ],
   "source": [
    "y_train.shape"
   ]
  },
  {
   "cell_type": "code",
   "execution_count": 79,
   "id": "345ada74",
   "metadata": {},
   "outputs": [
    {
     "name": "stdout",
     "output_type": "stream",
     "text": [
      "Fitting 5 folds for each of 60 candidates, totalling 300 fits\n",
      "0.9739130434782608\n"
     ]
    },
    {
     "data": {
      "text/plain": [
       "None"
      ]
     },
     "metadata": {},
     "output_type": "display_data"
    },
    {
     "name": "stdout",
     "output_type": "stream",
     "text": [
      "RandomForestClassifier(max_depth=4, max_features='sqrt', n_estimators=200)\n"
     ]
    },
    {
     "data": {
      "text/plain": [
       "None"
      ]
     },
     "metadata": {},
     "output_type": "display_data"
    },
    {
     "name": "stdout",
     "output_type": "stream",
     "text": [
      "{'criterion': 'gini', 'max_depth': 4, 'max_features': 'sqrt', 'n_estimators': 200}\n"
     ]
    },
    {
     "data": {
      "text/plain": [
       "None"
      ]
     },
     "metadata": {},
     "output_type": "display_data"
    }
   ],
   "source": [
    "#optimisation : gridsearchCV\n",
    "\n",
    "#recherche des meilleurs hyperparamètres via gridsearchCV\n",
    "from sklearn.model_selection import GridSearchCV\n",
    "from sklearn.metrics import accuracy_score\n",
    "from sklearn.metrics import f1_score\n",
    "from sklearn.ensemble import RandomForestClassifier\n",
    "\n",
    "params = { \n",
    "    'n_estimators': [200, 500],\n",
    "    'max_features': ['auto', 'sqrt', 'log2'],\n",
    "    'max_depth' : [4,5,6,7,8],\n",
    "    'criterion' :['gini', 'entropy']\n",
    "}\n",
    "\n",
    "gs = GridSearchCV(RandomForestClassifier(), params, verbose = 1, cv = 5)\n",
    "\n",
    "gs.fit(x_train, y_train)\n",
    "\n",
    "display(print(gs.best_score_))\n",
    "display(print(gs.best_estimator_))\n",
    "display(print(gs.best_params_))"
   ]
  },
  {
   "cell_type": "code",
   "execution_count": 55,
   "id": "236d5d02",
   "metadata": {},
   "outputs": [
    {
     "name": "stdout",
     "output_type": "stream",
     "text": [
      "              precision    recall  f1-score   support\n",
      "\n",
      "      setosa       1.00      1.00      1.00        12\n",
      "  versicolor       1.00      0.78      0.88         9\n",
      "   virginica       0.82      1.00      0.90         9\n",
      "\n",
      "    accuracy                           0.93        30\n",
      "   macro avg       0.94      0.93      0.92        30\n",
      "weighted avg       0.95      0.93      0.93        30\n",
      "\n",
      "0.9333333333333333\n"
     ]
    }
   ],
   "source": [
    "#entrainer le modèle\n",
    "\n",
    "#entrainement\n",
    "model = RandomForestClassifier(max_depth=4, max_features='sqrt', n_estimators=500)\n",
    "model.fit(x_train, y_train) #Training the model\n",
    "\n",
    "#test du modèle\n",
    "predictions = model.predict(x_test)\n",
    "print( classification_report(y_test, predictions) )\n",
    "print( accuracy_score(y_test, predictions))"
   ]
  },
  {
   "cell_type": "code",
   "execution_count": 56,
   "id": "abd886d9",
   "metadata": {},
   "outputs": [],
   "source": [
    "#pickling le modèle\n",
    "filename = 'savedmodel.sav'\n",
    "pickle.dump(model,open(filename,'wb'))"
   ]
  },
  {
   "cell_type": "code",
   "execution_count": 59,
   "id": "12c2aeaf",
   "metadata": {},
   "outputs": [
    {
     "name": "stdout",
     "output_type": "stream",
     "text": [
      "setosa\n"
     ]
    },
    {
     "name": "stderr",
     "output_type": "stream",
     "text": [
      "C:\\ProgramData\\Anaconda3\\lib\\site-packages\\sklearn\\base.py:450: UserWarning: X does not have valid feature names, but RandomForestClassifier was fitted with feature names\n",
      "  warnings.warn(\n"
     ]
    }
   ],
   "source": [
    "#vérifions si le pickle fonctionne\n",
    "p=model.predict([[5.1,3.5,1.4,0.2]])\n",
    "print(p[0])"
   ]
  },
  {
   "cell_type": "code",
   "execution_count": 60,
   "id": "7bc651f1",
   "metadata": {},
   "outputs": [],
   "source": [
    "load_model = pickle.load(open(filename, 'rb'))"
   ]
  },
  {
   "cell_type": "code",
   "execution_count": 63,
   "id": "11008162",
   "metadata": {},
   "outputs": [
    {
     "name": "stdout",
     "output_type": "stream",
     "text": [
      "['setosa' 'virginica' 'setosa' 'setosa' 'setosa' 'virginica' 'setosa'\n",
      " 'virginica' 'versicolor' 'setosa' 'setosa' 'virginica' 'virginica'\n",
      " 'versicolor' 'virginica' 'setosa' 'versicolor' 'virginica' 'setosa'\n",
      " 'versicolor' 'versicolor' 'virginica' 'setosa' 'virginica' 'setosa'\n",
      " 'versicolor' 'versicolor' 'virginica' 'virginica' 'setosa']\n"
     ]
    }
   ],
   "source": [
    "k = load_model.predict(x_test)\n",
    "print(k)"
   ]
  },
  {
   "cell_type": "code",
   "execution_count": 62,
   "id": "e95ff14a",
   "metadata": {},
   "outputs": [
    {
     "name": "stderr",
     "output_type": "stream",
     "text": [
      "C:\\ProgramData\\Anaconda3\\lib\\site-packages\\sklearn\\base.py:450: UserWarning: X does not have valid feature names, but RandomForestClassifier was fitted with feature names\n",
      "  warnings.warn(\n"
     ]
    },
    {
     "data": {
      "text/plain": [
       "(1,)"
      ]
     },
     "execution_count": 62,
     "metadata": {},
     "output_type": "execute_result"
    }
   ],
   "source": [
    "result = load_model.predict([(6.0, 2.2, 4.0, 1.0)])\n",
    "result.shape"
   ]
  },
  {
   "cell_type": "code",
   "execution_count": null,
   "id": "42e9125b",
   "metadata": {},
   "outputs": [],
   "source": []
  }
 ],
 "metadata": {
  "kernelspec": {
   "display_name": "Python 3 (ipykernel)",
   "language": "python",
   "name": "python3"
  },
  "language_info": {
   "codemirror_mode": {
    "name": "ipython",
    "version": 3
   },
   "file_extension": ".py",
   "mimetype": "text/x-python",
   "name": "python",
   "nbconvert_exporter": "python",
   "pygments_lexer": "ipython3",
   "version": "3.9.12"
  }
 },
 "nbformat": 4,
 "nbformat_minor": 5
}
